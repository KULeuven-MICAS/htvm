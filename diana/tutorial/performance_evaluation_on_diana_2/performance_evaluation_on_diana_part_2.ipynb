{
 "cells": [
  {
   "cell_type": "code",
   "execution_count": null,
   "id": "f0c2e70f-d97f-4492-b75a-d37f4636e777",
   "metadata": {
    "tags": []
   },
   "outputs": [],
   "source": [
    "!cp -r ../../byoc/* .\n",
    "DORY_SRC_DIR=\"/dory\"\n",
    "DORY_DST_DIR=\"dory\"\n",
    "!mkdir -p $DORY_DST_DIR/include\n",
    "!mkdir -p $DORY_DST_DIR/src\n",
    "!cp $DORY_SRC_DIR/dory/Hardware_targets/Diana/Backend_Kernels/dory-hal/include/*.h $DORY_DST_DIR/include\n",
    "!cp $DORY_SRC_DIR/dory/Hardware_targets/Diana/Backend_Kernels/dory-hal/src/*.c $DORY_DST_DIR/src\n",
    "!cp $DORY_SRC_DIR/dory/Hardware_targets/Diana/Diana_TVM/Utils_files/*.h $DORY_DST_DIR/include\n",
    "!cp $DORY_SRC_DIR/dory/Hardware_targets/Diana/Diana_TVM/Utils_files/*.c $DORY_DST_DIR/src"
   ]
  },
  {
   "cell_type": "markdown",
   "id": "364c7a0c-6d0c-4b4b-85b2-403b7229e429",
   "metadata": {},
   "source": [
    "# Performance Evaluation on Diana (Part 2 - WIP)\n",
    "\n",
    "In this part we will go over a more automated way to execute more measurements in less time.\n",
    "\n",
    "You'll learn how to use the **interactive mode** introduced in the first part of this tutorial.\n",
    "\n",
    "## Using the interactive mode to profile ResNet20\n",
    "\n",
    "After execution of the above cell this folder contains a script called `relay_resnet20.py` which creates a ResNet20 network in Relay.\n",
    "It also includes a utility argparser which we can use to quickly generate new code with different parameters. Let's have a look at the help of the script:"
   ]
  },
  {
   "cell_type": "code",
   "execution_count": null,
   "id": "99ac2ce7-8521-488d-8206-981bf0b6a115",
   "metadata": {},
   "outputs": [],
   "source": [
    "!python3 relay_resnet20.py -h"
   ]
  },
  {
   "cell_type": "markdown",
   "id": "c502f7dd-8882-4c38-ab49-4f4d6c94e4eb",
   "metadata": {},
   "source": [
    "Open two new terminals and in both terminals go to this folder:\n",
    "```bash\n",
    "cd /tvm-fork/diana/tutorial/performance_evaluation_on_diana_2\n",
    "```\n",
    "We will use **terminal 1** for starting an interactive measurement on Diana and **terminal 2** for compiling the binary for the RISC-V\n",
    "\n",
    "**In terminal 1** let's create a version of resnet with TVM operator fusion enabled, let's compile for the digital accelerator and the RISC-V core and let's set GCC's optimization level to 3. Let's profile individual kernel performance in **interactive mode**.\n",
    "```bash\n",
    "python relay_resnet20.py --target=\"soma_dory, c\" --profile=\"individual\" --interactive --gcc-opt=3\n",
    "```\n",
    "Once the terminal is ready with compilation it will show this message:\n",
    "```bash\n",
    "Press enter after profiling run...\n",
    "```\n",
    "Don't press enter just yet, but go to the second terminal first.\n",
    "\n",
    "**In terminal 2** we can compile the RISC-V binary with the now familiar command:\n",
    "```bash\n",
    "make -f Makefile.pulprt clean all\n",
    "```\n",
    "\n",
    "You can now use the binary in `build/pulpissimo/demo/demo` and the generated profiler script `gdb_profiler.sh` to run the measurement on Diana.\n",
    "\n",
    "\n",
    "INSERT PROCEDURE TO LAUNCH CODE ON DIANA\n",
    "\n",
    "Once you have performed this measurement, and `profiler.txt` is in this directory, you can press enter in terminal 1.\n",
    "You should now see an overview of the different performance counters and a first indication of performance.\n",
    "\n",
    "Note that the results are now exported to a csv file as well!\n",
    "\n",
    "### WIP: Plotting scripts\n",
    "\n",
    "Perform the following measurements:\n",
    "*  ```bash\n",
    "   python relay_resnet20.py --target=\"soma_dory, c\" --profile=\"individual\" --interactive --gcc-opt=x\n",
    "   ```\n",
    "   Where you change `x` from `3` to `0` \n",
    "*  ```bash\n",
    "   python relay_resnet20.py --target=\"soma_dory, c\" --profile=\"global\" --interactive --gcc-opt=x\n",
    "   ```\n",
    "   Where you change `x` from `3` to `0` \n",
    "\n",
    "Now move all `csv` files to a folder called `results` like so:\n",
    "```bash\n",
    "mkdir results\n",
    "mv *.csv results\n",
    "```\n",
    "Now you can execute the plotting script:\n",
    "```bash\n",
    "python plotting.py\n",
    "```\n",
    "Open the html plots in this directory, what do you observe?"
   ]
  },
  {
   "cell_type": "code",
   "execution_count": null,
   "id": "72414a34-004b-486a-b29f-015e0a8eccf5",
   "metadata": {},
   "outputs": [],
   "source": []
  }
 ],
 "metadata": {
  "kernelspec": {
   "display_name": "Python 3 (ipykernel)",
   "language": "python",
   "name": "python3"
  },
  "language_info": {
   "codemirror_mode": {
    "name": "ipython",
    "version": 3
   },
   "file_extension": ".py",
   "mimetype": "text/x-python",
   "name": "python",
   "nbconvert_exporter": "python",
   "pygments_lexer": "ipython3",
   "version": "3.8.10"
  }
 },
 "nbformat": 4,
 "nbformat_minor": 5
}
