{
 "cells": [
  {
   "cell_type": "code",
   "execution_count": null,
   "id": "52bee40c-7832-4b24-866b-4134e26e46cb",
   "metadata": {},
   "outputs": [],
   "source": [
    "from nbutils import get\n",
    "import IPython\n",
    "from utils import (\n",
    "        tvmc_compile_and_unpack, \n",
    "        relay_soma_conv2d,\n",
    "        create_demo_file, \n",
    "        parse_cli_options,\n",
    "        load_or_create_random_array,\n",
    "        )\n",
    "import tvm\n",
    "import tvm.relay as relay\n",
    "import tvm.relay.transform as transform\n",
    "from tvm.driver.tvmc.model import TVMCModel\n",
    "from tvm.driver.tvmc.compiler import compile_model\n",
    "from tvm.relay.backend import Executor, Runtime\n",
    "import numpy as np"
   ]
  },
  {
   "cell_type": "markdown",
   "id": "03f352f3-d729-4693-9fbf-9861bb12504a",
   "metadata": {},
   "source": [
    "# Performance Evaluation on Diana\n",
    "\n",
    "Getting good insight in how well your algorithm performs on Diana is crucial.\n",
    "\n",
    "In this tutorial you will learn how to:\n",
    "* add performance counters to your compiled code\n",
    "* run an experiment with performance counters and get back performance\n",
    "* plot and interpret achieved performance on Diana\n",
    "\n",
    "This tutorial assumes that you:\n",
    "* have already selected a certain algorithm you want to test\n",
    "* are aware of the basic architecture of Diana\n",
    "* that you are familiar with how code generation works for Diana, both for the RISC-V core (tvm) and the accelerators (dory)\n",
    "\n",
    "\n",
    "**Note that this notebook runs in an `IPython` interactive shell, but that commands with and exclamation mark (!) in front are actually passed onto the linux shell (`bash` in this case)**\n",
    "\n",
    "Also keep a terminal ready where you've gone to the same directory:\n",
    "```bash\n",
    "cd /tvm-fork/diana/tutorial/performance_evaluation_on_dianaRun\n",
    "```"
   ]
  },
  {
   "cell_type": "markdown",
   "id": "c9fc5ff3-f085-47c0-af36-bea8ff3903e6",
   "metadata": {},
   "source": [
    "## Run a simple Relay model on Diana\n",
    "\n",
    "To start, let's again compile a model with TVM to be compiled with PULP-SDK\n",
    "This time, we'll use the scripts that are inside the `/tvm-fork/diana/byoc` directory instead of defining a model ourselves.\n",
    "\n",
    "To get a list of currently supported options, run:"
   ]
  },
  {
   "cell_type": "code",
   "execution_count": null,
   "id": "ec08ed57-eb5d-4420-8ffa-ddc3e04ac292",
   "metadata": {},
   "outputs": [],
   "source": [
    "def create_model():\n",
    "    input_shape = (1, 3, 16, 16)\n",
    "    x = relay.var(\"input\", relay.TensorType(input_shape, 'int8'))\n",
    "\n",
    "    weights_shape = (32, 3, 3, 3)\n",
    "    special_data = load_or_create_random_array(\"weights.npy\",\n",
    "                                               weights_shape, np.int8)\n",
    "    x, params1 = relay_soma_conv2d(x, 'conv1', weights_shape, \n",
    "                                   special_data,\n",
    "                                   np.ones(weights_shape[0]).astype(np.int32), \n",
    "                                   act=False, shift_bits=4)\n",
    "    params = params1\n",
    "\n",
    "    # create an IR module from the relay expression\n",
    "    mod = tvm.ir.IRModule()\n",
    "    mod = mod.from_expr(x)\n",
    "\n",
    "    return mod, params\n",
    "\n",
    "mod, params = create_model()\n",
    "print(mod)"
   ]
  },
  {
   "cell_type": "code",
   "execution_count": null,
   "id": "4b92fefb-696e-4bdf-b7f5-cba71a01f1f1",
   "metadata": {},
   "outputs": [],
   "source": [
    "model = TVMCModel(mod, params)\n",
    "target = \"soma_dory, c\"\n",
    "fuse_layers = True\n",
    "tvmc_compile_and_unpack(model, target=target, fuse_layers=fuse_layers, build_path='build')\n",
    "create_demo_file(mod, 'app/src/demo.c')"
   ]
  },
  {
   "cell_type": "markdown",
   "id": "5dfbd031-11ee-4185-9a74-57ccb0850b41",
   "metadata": {},
   "source": [
    "Before we can compile the generated C code we have to set up an application again where all the right dependencies are located:"
   ]
  },
  {
   "cell_type": "code",
   "execution_count": null,
   "id": "d4fbcf47-40d9-46fc-9669-04921cdc7dbe",
   "metadata": {
    "tags": []
   },
   "outputs": [],
   "source": [
    "APP_DST_DIR=\"app\"\n",
    "APP_SRC_DIR=\"../../byoc\"\n",
    "DORY_SRC_DIR=\"/dory\"\n",
    "DORY_DST_DIR=\"dory\"\n",
    "!cp $APP_SRC_DIR/src/*.c $APP_DST_DIR/src\n",
    "!cp $APP_SRC_DIR/include/*.h $APP_DST_DIR/include\n",
    "!mkdir -p $APP_DST_DIR/src\n",
    "!mkdir -p $APP_DST_DIR/include\n",
    "!mkdir -p $DORY_DST_DIR/include\n",
    "!mkdir -p $DORY_DST_DIR/src\n",
    "!cp $DORY_SRC_DIR/dory/Hardware_targets/Diana/Backend_Kernels/dory-hal/include/*.h $DORY_DST_DIR/include\n",
    "!cp $DORY_SRC_DIR/dory/Hardware_targets/Diana/Backend_Kernels/dory-hal/src/*.c $DORY_DST_DIR/src\n",
    "!cp $DORY_SRC_DIR/dory/Hardware_targets/Diana/Diana_TVM/Utils_files/*.h $DORY_DST_DIR/include\n",
    "!cp $DORY_SRC_DIR/dory/Hardware_targets/Diana/Diana_TVM/Utils_files/*.c $DORY_DST_DIR/src"
   ]
  },
  {
   "cell_type": "markdown",
   "id": "e2e99c31-f535-4f53-b615-dcd4b77db7fd",
   "metadata": {},
   "source": [
    "We can now directly compile the generated code with:\n",
    "```bash\n",
    "make -f Makefile.pulprt all\n",
    "```\n",
    "\n",
    "The binary is now generated in `build/pulpissimo/demo/demo`\n",
    "\n",
    "INSERT PROCEDURE TO RUN THE BINARY"
   ]
  },
  {
   "cell_type": "markdown",
   "id": "a060bbf2-e970-403b-81b8-5a8ce996874c",
   "metadata": {},
   "source": [
    "## Profiling the simple binary\n",
    "\n",
    "It's great that we can run the binary now, but the problem is now that we don't have any clue of how good the performance of these networks is.\n",
    "\n",
    "Luckily PULPissimo contains a set of hardware performance counters that can count the amount of cycles passed by.\n",
    "Diana also has access to these performance counters. As such we can estimate the performance by counting the cycles passed by on the RISC-V core.\n",
    "\n",
    "in `/tvm-fork/diana/byoc/src/pulp_rt_profiler_wrapper.c` and  `/tvm-fork/diana/byoc/include/pulpr_rt_profiler_wrapper.h` we provide wrappers to this functionality in C code.\n",
    "\n",
    "The wrappers need to be called as follows:\n",
    "1. setup the performance counters once with `init_global_perf_counter()`\n",
    "2. start a counter during program execution with `start_perf_counter()`\n",
    "3. save + stop a counter with `int32 count = stop_perf_counter()`\n",
    "4. For subsequent counts you can still `start_perf_counter()` and `stop_perf_counter()`\n",
    "\n",
    "Some guidelines in using these functions:\n",
    "* Don't use a `start_perf_counter()` followed by another `start_perf_counter()`\n",
    "* If you declare `count` to be a global variable, you can read out the variables with gdb in any part of your program.\n",
    "* If you spend more than $2^{32}$ cycles in your program, the cycle counter may overflow.\n",
    "\n",
    "While you could add these performance counters manually in your program, it is quite error-prone to insert them or measure them in this way. To alleviate this problem, we have developed some wrapper utilties which go into the files generated by tvm and then insert these counters automatically.\n",
    "\n",
    "We have two different types of measurement:\n",
    "* `global` : A measurement that just measures the total amount of cycles spent in the C function generated by TVM to run one forward pass of the neural network. \n",
    "* `individual` : A measurement that inserts performance counters before and after each individual kernel (layer) in TVM is called"
   ]
  },
  {
   "cell_type": "markdown",
   "id": "3d5e338c-1c95-4c11-ab70-7a9065ef2e22",
   "metadata": {},
   "source": [
    "### Adding global performance counters in the simple binary\n",
    "\n",
    "Let's look into the main code generated by TVM:"
   ]
  },
  {
   "cell_type": "code",
   "execution_count": null,
   "id": "948de55b-7e74-4627-b095-e08a20833e9d",
   "metadata": {
    "tags": []
   },
   "outputs": [],
   "source": [
    "print(\"'default_lib0.c' before adding performance counters:\")\n",
    "IPython.display.HTML(get(\"build/codegen/host/src/default_lib0.c\"))"
   ]
  },
  {
   "cell_type": "markdown",
   "id": "25e69f33-d6b9-4135-a39d-b85e174cae99",
   "metadata": {},
   "source": [
    "To add performance counters and globally defined variables in the generated C code you can run:\n"
   ]
  },
  {
   "cell_type": "code",
   "execution_count": null,
   "id": "9e8aaa42-b847-4f28-b745-6ed3c676c631",
   "metadata": {},
   "outputs": [],
   "source": [
    "from profiler import insert_profiler\n",
    "\n",
    "measurement=\"global\"  # set profiling measurement to global\n",
    "codegen_dir=\"./build/codegen/host/src/\"  # set to TVM's codegen output\n",
    "gdb_script_name=\"./gdb_profiler.sh\"  # name of gdb script to be generated\n",
    "gdb_log_name=\"./profile.txt\"  # name of file gdb script will log its results to\n",
    "\n",
    "interactive=False  # Don't use interactive mode for jupyter notebook\n",
    "csv_file=\"profile.csv\"  # name of file to log results to in interactive mode\n",
    "\n",
    "insert_profiler(measurement=measurement,\n",
    "                codegen_dir=codegen_dir,\n",
    "                gdb_script_name=gdb_script_name,\n",
    "                gdb_log_name=gdb_log_name,\n",
    "                interactive=interactive,\n",
    "                csv_file=csv_file)"
   ]
  },
  {
   "cell_type": "markdown",
   "id": "c43ecb38-e106-431d-a612-30dda5f0c57d",
   "metadata": {},
   "source": [
    "With the `insert_profiler` function, we have adapted and created several files:\n",
    "* We adapted `default_lib0.c` and inserted performance counters\n",
    "   * We added a new global variable `perf_cyc` to contain the measurement\n",
    "   * We added `init_global_perf_counter();`, `start_perf_counter()`, and `stop_perf_counter` functions.\n",
    "* We created `gdb_profiler.sh` for running the binary in gdb.\n",
    "    * `gdb_profiler.sh` will log to a file called `profile.txt`\n",
    "    * In its log, it will print out `perf_cyc` after it has hit `gdb_anchor` in `app/src/demo.c`\n",
    "\n",
    "Let's look into the files to proof that:\n",
    "\n",
    "\n"
   ]
  },
  {
   "cell_type": "code",
   "execution_count": null,
   "id": "644db03f-7d0a-4d03-a2a5-22e9491d3d66",
   "metadata": {
    "tags": []
   },
   "outputs": [],
   "source": [
    "print(\"'default_lib0.c' after adding performance counters with 'insert_profiler':\")\n",
    "IPython.display.HTML(get(\"build/codegen/host/src/default_lib0.c\"))"
   ]
  },
  {
   "cell_type": "code",
   "execution_count": null,
   "id": "7bef9dcc-7b1a-4553-b96c-d7f9cff491f5",
   "metadata": {
    "tags": []
   },
   "outputs": [],
   "source": [
    "print(\"'gdb_script.sh', generated by 'insert_profiler':\")\n",
    "IPython.display.HTML(get(\"gdb_profiler.sh\"))"
   ]
  },
  {
   "cell_type": "markdown",
   "id": "0ef129e2-de4a-4ac6-ae30-8ea371f41305",
   "metadata": {},
   "source": [
    "### Getting the global performance of the simple binary\n",
    "\n",
    "To get the performance of the binary, we will run the binary on Diana with gdb with the `gdb_profiler.sh` script.  \n",
    "\n",
    "We first have to make the binary with the newly added performance counters.\n",
    "\n",
    "In a terminal, again run:\n",
    "```bash\n",
    "make -f Makefile.pulprt all\n",
    "```\n",
    "\n",
    "\n",
    "Now you can run the binary on diana with\n",
    "\n",
    "INSERT CODE TO RUN THE BINARY HERE:\n",
    "\n",
    "After running the binary, you can now inspect the result of `profile.txt`. In a terminal, run:\n",
    "```bash\n",
    "cat profile.txt\n",
    "```\n",
    "For how many cycles did you run the forward pass of your network?"
   ]
  },
  {
   "cell_type": "markdown",
   "id": "8a34d51d-006c-44b7-adf7-330ed81be0fd",
   "metadata": {},
   "source": [
    "## Exercise: Inserting individual kernel performance counters on Diana\n",
    "\n",
    "It's nice to know how much cycles it takes to run a forward pass of your network.\n",
    "However, in a lot of cases you'll want to know how much time is spent in an invidual layer of your network. This can again be performed with `insert_profiler()`\n",
    "\n",
    "To get more familiar with the profiler flow, we'll leave this part as an exercise for you.\n",
    "In the next few cells, do the following:\n",
    "\n",
    "1. Run the cell below to recompile a clean version of your network C code with TVM\n",
    "2. Add performance counters with `insert_profiler()`, TIP: try changing the `measurement` parameter.\n",
    "3. Look inside `build/codegen/host/src/default_lib1.c`:\n",
    "   1. In which C function did `insert_profiler()` add performance counters? What does this C function do?\n",
    "   2. How many performance counters were inserted? Look into the generated gdb script. What will the output of running this in gdb be?\n",
    "   3. Which layers were created by Dory, and which ones by TVM?\n",
    "   3. Recompile the C code and run the binary on Diana, what performance do you get for each field?"
   ]
  },
  {
   "cell_type": "code",
   "execution_count": null,
   "id": "5039f57c-b691-4cfe-aa68-951427a3a449",
   "metadata": {},
   "outputs": [],
   "source": [
    "tvmc_compile_and_unpack(model, target=target, fuse_layers=fuse_layers, build_path='build')\n",
    "create_demo_file(mod, 'app/src/demo.c')"
   ]
  },
  {
   "cell_type": "code",
   "execution_count": null,
   "id": "15aa5262-7e6a-49c3-a3a8-81395f269ddd",
   "metadata": {},
   "outputs": [],
   "source": [
    "#insert your solutions here!"
   ]
  },
  {
   "cell_type": "markdown",
   "id": "5ba22f12-8ab6-4d96-acc3-0980e843931a",
   "metadata": {
    "jp-MarkdownHeadingCollapsed": true,
    "tags": []
   },
   "source": [
    "#### Solution\n",
    "\n",
    "Unhide the cells below if you're ready with the exercise."
   ]
  },
  {
   "cell_type": "markdown",
   "id": "c4201f03-757d-4df0-9c39-467db864035d",
   "metadata": {
    "tags": []
   },
   "source": [
    "2. set the parameter for measurement to `individual`:"
   ]
  },
  {
   "cell_type": "code",
   "execution_count": null,
   "id": "c6c8533f-1759-4b08-9d7d-a621b2a80f50",
   "metadata": {},
   "outputs": [],
   "source": [
    "%%capture --no-display --no-stderr\n",
    "# %%capture will hide some output of this cell \n",
    "measurement=\"individual\"\n",
    "\n",
    "# Other parameters remain unchanged\n",
    "tvmc_compile_and_unpack(model, target=target, fuse_layers=fuse_layers, build_path='build')\n",
    "create_demo_file(mod, 'app/src/demo.c')\n",
    "insert_profiler(measurement=measurement,\n",
    "                codegen_dir=codegen_dir,\n",
    "                gdb_script_name=gdb_script_name,\n",
    "                gdb_log_name=gdb_log_name,\n",
    "                interactive=interactive,\n",
    "                csv_file=csv_file)"
   ]
  },
  {
   "cell_type": "markdown",
   "id": "851cfc29-c01b-4320-8e21-09987cc91edd",
   "metadata": {
    "tags": []
   },
   "source": [
    "3. solutions:\n",
    "    1. The performance counters were inserted in `tvmgen_default___tvm_main__` which runs the forward pass of the network.\n",
    "    2. In this case there are three calls to `start_perf_counter();` and `stop_perf_counter();` and three global counter variables were generated, `perf_cyc_tvm_0`, and `1` and `2`. `gdb_profiler.sh` will print all of these.\n",
    "    \n",
    "    3. `tvmgen_default_soma_dory_main_0` was created by dory, but the others starting with `tvmgen_default_fused...` were created by TVM."
   ]
  },
  {
   "cell_type": "code",
   "execution_count": null,
   "id": "684625e9-6587-4b91-aed2-ab6688d3d8d0",
   "metadata": {},
   "outputs": [],
   "source": []
  }
 ],
 "metadata": {
  "kernelspec": {
   "display_name": "Python 3 (ipykernel)",
   "language": "python",
   "name": "python3"
  },
  "language_info": {
   "codemirror_mode": {
    "name": "ipython",
    "version": 3
   },
   "file_extension": ".py",
   "mimetype": "text/x-python",
   "name": "python",
   "nbconvert_exporter": "python",
   "pygments_lexer": "ipython3",
   "version": "3.8.10"
  }
 },
 "nbformat": 4,
 "nbformat_minor": 5
}
