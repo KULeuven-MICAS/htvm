{
 "cells": [
  {
   "cell_type": "code",
   "execution_count": 18,
   "id": "7325415a-943a-4821-bd63-17cd389890e9",
   "metadata": {},
   "outputs": [
    {
     "name": "stdout",
     "output_type": "stream",
     "text": [
      "rm -f helloworld\n"
     ]
    }
   ],
   "source": [
    "from pygments import highlight\n",
    "from pygments.lexers import CLexer\n",
    "from pygments.lexers.python import PythonLexer\n",
    "from pygments.lexers.make import MakefileLexer\n",
    "from pygments.formatters import HtmlFormatter\n",
    "import IPython\n",
    "\n",
    "def get(path):\n",
    "    if path.endswith(\".c\"):\n",
    "        lexer = CLexer()\n",
    "    elif path.endswith(\".py\"):\n",
    "        lexer = PyLexer()\n",
    "    elif \"Makefile\" in path:\n",
    "        lexer = MakefileLexer()\n",
    "    with open(path) as f:\n",
    "        code = f.read()\n",
    "        return '<style type=\"text/css\">{}</style>{}'.format(\n",
    "            HtmlFormatter().get_style_defs('default'),\n",
    "            highlight(code, lexer, HtmlFormatter()))\n",
    "    \n",
    "# Clean all previous output\n",
    "!make -f Makefile.x86 clean"
   ]
  },
  {
   "cell_type": "markdown",
   "id": "d5b80950-d6a6-4fe1-9259-dfcb1b8595d4",
   "metadata": {
    "tags": []
   },
   "source": [
    "# Bare Metal Deployment on RISC-V Host core\n",
    "\n",
    "The Diana system-on-chip (SoC) is based on [pulpissimo](https://github.com/pulp-platform/pulpissimo) and comes with three main parts:\n",
    "1. An open-source RISC-V core. In this case, a [**RI5CY**](https://github.com/openhwgroup/cv32e40p) core with the `RV32IMFCXpulp` ISA.\n",
    "2. A Digital accelerator named **SOMA** with a 16-by-16 PE array supporting e.g. Conv2D operations at 8 bit precision\n",
    "3. An analog/mixed-signal Compute-in-memory (CIM) core named **ANIA** with a 1152-by-512 PE array supporting e.g. Conv2D operations on 7-bit inputs and ternary weight values (\\[-1,0,1\\]).\n",
    "\n",
    "In this tutorial you will learn how to:\n",
    "* Write a simple \"hello world\" program on Diana's RISC-V core\n",
    "* Step through a program with `gdb` on the RISC-V core.\n",
    "* Cross-compile your C code for deployment on the RISC-V core with `gcc` from the pulp RISC-V GCC toolchain.\n",
    "* Perform memory managemement for the SoC\n",
    "* Troubleshoot standard errors and common problems\n",
    "\n",
    "This tutorial assumes some familiarity with various aspects of C programming:\n",
    "* C programming\n",
    "* Basic knowledge of GCC compilation options\n",
    "* Building C code with GNU `make` and `Makefile`s\n",
    "* Static and dynamic memory management in C (e.g. `malloc` and `free`)\n",
    "* Familiarity with a debugger like `gdb`, `lldb`, `pdb` or debuggers found in common IDE's."
   ]
  },
  {
   "cell_type": "markdown",
   "id": "2a91ad1a-b054-42d5-9b78-e45277f6a74a",
   "metadata": {
    "tags": []
   },
   "source": [
    "## Writing a simple \"hello world\" program\n",
    "\n",
    "Writing programs on a platform like Diana is quite different from writing a program on your average desktop platform:\n",
    "* Diana's code is running *bare-metal*, meaning there is *no OS* on the Diana platform. Your program is directly running on the RISC-V core with no operating system in between.\n",
    "* You can not attach a screen to Diana, nor can you SSH into Diana. You can only interface with Diana over *UART* or *JTAG* (with the help of `gdb`). \n",
    "* Diana has very few memory (*only 512 kB!*) to work with and has no file system.\n",
    "* Diana has *no hardware caches*, but only *scratchpad memories*, meaning that all data caching has to be controlled by the programmer/compiler.\n",
    "* Diana's host core works with the quite recent and fully open-source *RISC-V ISA* as opposed to the more traditional x86 or ARM ISA's.\n",
    "\n",
    "### Writing a simple hello world on X86:\n",
    "\n",
    "Let's write a basic C program to illustrate how to work with this platform"
   ]
  },
  {
   "cell_type": "code",
   "execution_count": 17,
   "id": "7c68b825-1692-4811-acb6-738535c8450a",
   "metadata": {},
   "outputs": [
    {
     "data": {
      "text/html": [
       "<style type=\"text/css\">pre { line-height: 125%; }\n",
       "td.linenos .normal { color: inherit; background-color: transparent; padding-left: 5px; padding-right: 5px; }\n",
       "span.linenos { color: inherit; background-color: transparent; padding-left: 5px; padding-right: 5px; }\n",
       "td.linenos .special { color: #000000; background-color: #ffffc0; padding-left: 5px; padding-right: 5px; }\n",
       "span.linenos.special { color: #000000; background-color: #ffffc0; padding-left: 5px; padding-right: 5px; }\n",
       "default .hll { background-color: #ffffcc }\n",
       "default { background: #f8f8f8; }\n",
       "default .c { color: #3D7B7B; font-style: italic } /* Comment */\n",
       "default .err { border: 1px solid #FF0000 } /* Error */\n",
       "default .k { color: #008000; font-weight: bold } /* Keyword */\n",
       "default .o { color: #666666 } /* Operator */\n",
       "default .ch { color: #3D7B7B; font-style: italic } /* Comment.Hashbang */\n",
       "default .cm { color: #3D7B7B; font-style: italic } /* Comment.Multiline */\n",
       "default .cp { color: #9C6500 } /* Comment.Preproc */\n",
       "default .cpf { color: #3D7B7B; font-style: italic } /* Comment.PreprocFile */\n",
       "default .c1 { color: #3D7B7B; font-style: italic } /* Comment.Single */\n",
       "default .cs { color: #3D7B7B; font-style: italic } /* Comment.Special */\n",
       "default .gd { color: #A00000 } /* Generic.Deleted */\n",
       "default .ge { font-style: italic } /* Generic.Emph */\n",
       "default .gr { color: #E40000 } /* Generic.Error */\n",
       "default .gh { color: #000080; font-weight: bold } /* Generic.Heading */\n",
       "default .gi { color: #008400 } /* Generic.Inserted */\n",
       "default .go { color: #717171 } /* Generic.Output */\n",
       "default .gp { color: #000080; font-weight: bold } /* Generic.Prompt */\n",
       "default .gs { font-weight: bold } /* Generic.Strong */\n",
       "default .gu { color: #800080; font-weight: bold } /* Generic.Subheading */\n",
       "default .gt { color: #0044DD } /* Generic.Traceback */\n",
       "default .kc { color: #008000; font-weight: bold } /* Keyword.Constant */\n",
       "default .kd { color: #008000; font-weight: bold } /* Keyword.Declaration */\n",
       "default .kn { color: #008000; font-weight: bold } /* Keyword.Namespace */\n",
       "default .kp { color: #008000 } /* Keyword.Pseudo */\n",
       "default .kr { color: #008000; font-weight: bold } /* Keyword.Reserved */\n",
       "default .kt { color: #B00040 } /* Keyword.Type */\n",
       "default .m { color: #666666 } /* Literal.Number */\n",
       "default .s { color: #BA2121 } /* Literal.String */\n",
       "default .na { color: #687822 } /* Name.Attribute */\n",
       "default .nb { color: #008000 } /* Name.Builtin */\n",
       "default .nc { color: #0000FF; font-weight: bold } /* Name.Class */\n",
       "default .no { color: #880000 } /* Name.Constant */\n",
       "default .nd { color: #AA22FF } /* Name.Decorator */\n",
       "default .ni { color: #717171; font-weight: bold } /* Name.Entity */\n",
       "default .ne { color: #CB3F38; font-weight: bold } /* Name.Exception */\n",
       "default .nf { color: #0000FF } /* Name.Function */\n",
       "default .nl { color: #767600 } /* Name.Label */\n",
       "default .nn { color: #0000FF; font-weight: bold } /* Name.Namespace */\n",
       "default .nt { color: #008000; font-weight: bold } /* Name.Tag */\n",
       "default .nv { color: #19177C } /* Name.Variable */\n",
       "default .ow { color: #AA22FF; font-weight: bold } /* Operator.Word */\n",
       "default .w { color: #bbbbbb } /* Text.Whitespace */\n",
       "default .mb { color: #666666 } /* Literal.Number.Bin */\n",
       "default .mf { color: #666666 } /* Literal.Number.Float */\n",
       "default .mh { color: #666666 } /* Literal.Number.Hex */\n",
       "default .mi { color: #666666 } /* Literal.Number.Integer */\n",
       "default .mo { color: #666666 } /* Literal.Number.Oct */\n",
       "default .sa { color: #BA2121 } /* Literal.String.Affix */\n",
       "default .sb { color: #BA2121 } /* Literal.String.Backtick */\n",
       "default .sc { color: #BA2121 } /* Literal.String.Char */\n",
       "default .dl { color: #BA2121 } /* Literal.String.Delimiter */\n",
       "default .sd { color: #BA2121; font-style: italic } /* Literal.String.Doc */\n",
       "default .s2 { color: #BA2121 } /* Literal.String.Double */\n",
       "default .se { color: #AA5D1F; font-weight: bold } /* Literal.String.Escape */\n",
       "default .sh { color: #BA2121 } /* Literal.String.Heredoc */\n",
       "default .si { color: #A45A77; font-weight: bold } /* Literal.String.Interpol */\n",
       "default .sx { color: #008000 } /* Literal.String.Other */\n",
       "default .sr { color: #A45A77 } /* Literal.String.Regex */\n",
       "default .s1 { color: #BA2121 } /* Literal.String.Single */\n",
       "default .ss { color: #19177C } /* Literal.String.Symbol */\n",
       "default .bp { color: #008000 } /* Name.Builtin.Pseudo */\n",
       "default .fm { color: #0000FF } /* Name.Function.Magic */\n",
       "default .vc { color: #19177C } /* Name.Variable.Class */\n",
       "default .vg { color: #19177C } /* Name.Variable.Global */\n",
       "default .vi { color: #19177C } /* Name.Variable.Instance */\n",
       "default .vm { color: #19177C } /* Name.Variable.Magic */\n",
       "default .il { color: #666666 } /* Literal.Number.Integer.Long */</style><div class=\"highlight\"><pre><span></span><span class=\"cp\">#include</span><span class=\"w\"> </span><span class=\"cpf\">&lt;stdio.h&gt;</span><span class=\"cp\"></span>\n",
       "\n",
       "<span class=\"kt\">int</span><span class=\"w\"> </span><span class=\"nf\">main</span><span class=\"p\">(</span><span class=\"kt\">int</span><span class=\"w\"> </span><span class=\"n\">argc</span><span class=\"p\">(),</span><span class=\"w\"> </span><span class=\"kt\">char</span><span class=\"o\">*</span><span class=\"w\"> </span><span class=\"n\">argv</span><span class=\"p\">[]){</span><span class=\"w\"></span>\n",
       "<span class=\"w\">    </span><span class=\"n\">printf</span><span class=\"p\">(</span><span class=\"s\">&quot;hello world!</span><span class=\"se\">\\n</span><span class=\"s\">&quot;</span><span class=\"p\">);</span><span class=\"w\"></span>\n",
       "<span class=\"p\">}</span><span class=\"w\"></span>\n",
       "</pre></div>\n"
      ],
      "text/plain": [
       "<IPython.core.display.HTML object>"
      ]
     },
     "execution_count": 17,
     "metadata": {},
     "output_type": "execute_result"
    }
   ],
   "source": [
    "IPython.display.HTML(get(\"helloworld.c\"))"
   ]
  },
  {
   "cell_type": "code",
   "execution_count": 16,
   "id": "36aaab9c-ffdf-4c37-81be-2dee1e06e84c",
   "metadata": {},
   "outputs": [
    {
     "data": {
      "text/html": [
       "<style type=\"text/css\">pre { line-height: 125%; }\n",
       "td.linenos .normal { color: inherit; background-color: transparent; padding-left: 5px; padding-right: 5px; }\n",
       "span.linenos { color: inherit; background-color: transparent; padding-left: 5px; padding-right: 5px; }\n",
       "td.linenos .special { color: #000000; background-color: #ffffc0; padding-left: 5px; padding-right: 5px; }\n",
       "span.linenos.special { color: #000000; background-color: #ffffc0; padding-left: 5px; padding-right: 5px; }\n",
       "default .hll { background-color: #ffffcc }\n",
       "default { background: #f8f8f8; }\n",
       "default .c { color: #3D7B7B; font-style: italic } /* Comment */\n",
       "default .err { border: 1px solid #FF0000 } /* Error */\n",
       "default .k { color: #008000; font-weight: bold } /* Keyword */\n",
       "default .o { color: #666666 } /* Operator */\n",
       "default .ch { color: #3D7B7B; font-style: italic } /* Comment.Hashbang */\n",
       "default .cm { color: #3D7B7B; font-style: italic } /* Comment.Multiline */\n",
       "default .cp { color: #9C6500 } /* Comment.Preproc */\n",
       "default .cpf { color: #3D7B7B; font-style: italic } /* Comment.PreprocFile */\n",
       "default .c1 { color: #3D7B7B; font-style: italic } /* Comment.Single */\n",
       "default .cs { color: #3D7B7B; font-style: italic } /* Comment.Special */\n",
       "default .gd { color: #A00000 } /* Generic.Deleted */\n",
       "default .ge { font-style: italic } /* Generic.Emph */\n",
       "default .gr { color: #E40000 } /* Generic.Error */\n",
       "default .gh { color: #000080; font-weight: bold } /* Generic.Heading */\n",
       "default .gi { color: #008400 } /* Generic.Inserted */\n",
       "default .go { color: #717171 } /* Generic.Output */\n",
       "default .gp { color: #000080; font-weight: bold } /* Generic.Prompt */\n",
       "default .gs { font-weight: bold } /* Generic.Strong */\n",
       "default .gu { color: #800080; font-weight: bold } /* Generic.Subheading */\n",
       "default .gt { color: #0044DD } /* Generic.Traceback */\n",
       "default .kc { color: #008000; font-weight: bold } /* Keyword.Constant */\n",
       "default .kd { color: #008000; font-weight: bold } /* Keyword.Declaration */\n",
       "default .kn { color: #008000; font-weight: bold } /* Keyword.Namespace */\n",
       "default .kp { color: #008000 } /* Keyword.Pseudo */\n",
       "default .kr { color: #008000; font-weight: bold } /* Keyword.Reserved */\n",
       "default .kt { color: #B00040 } /* Keyword.Type */\n",
       "default .m { color: #666666 } /* Literal.Number */\n",
       "default .s { color: #BA2121 } /* Literal.String */\n",
       "default .na { color: #687822 } /* Name.Attribute */\n",
       "default .nb { color: #008000 } /* Name.Builtin */\n",
       "default .nc { color: #0000FF; font-weight: bold } /* Name.Class */\n",
       "default .no { color: #880000 } /* Name.Constant */\n",
       "default .nd { color: #AA22FF } /* Name.Decorator */\n",
       "default .ni { color: #717171; font-weight: bold } /* Name.Entity */\n",
       "default .ne { color: #CB3F38; font-weight: bold } /* Name.Exception */\n",
       "default .nf { color: #0000FF } /* Name.Function */\n",
       "default .nl { color: #767600 } /* Name.Label */\n",
       "default .nn { color: #0000FF; font-weight: bold } /* Name.Namespace */\n",
       "default .nt { color: #008000; font-weight: bold } /* Name.Tag */\n",
       "default .nv { color: #19177C } /* Name.Variable */\n",
       "default .ow { color: #AA22FF; font-weight: bold } /* Operator.Word */\n",
       "default .w { color: #bbbbbb } /* Text.Whitespace */\n",
       "default .mb { color: #666666 } /* Literal.Number.Bin */\n",
       "default .mf { color: #666666 } /* Literal.Number.Float */\n",
       "default .mh { color: #666666 } /* Literal.Number.Hex */\n",
       "default .mi { color: #666666 } /* Literal.Number.Integer */\n",
       "default .mo { color: #666666 } /* Literal.Number.Oct */\n",
       "default .sa { color: #BA2121 } /* Literal.String.Affix */\n",
       "default .sb { color: #BA2121 } /* Literal.String.Backtick */\n",
       "default .sc { color: #BA2121 } /* Literal.String.Char */\n",
       "default .dl { color: #BA2121 } /* Literal.String.Delimiter */\n",
       "default .sd { color: #BA2121; font-style: italic } /* Literal.String.Doc */\n",
       "default .s2 { color: #BA2121 } /* Literal.String.Double */\n",
       "default .se { color: #AA5D1F; font-weight: bold } /* Literal.String.Escape */\n",
       "default .sh { color: #BA2121 } /* Literal.String.Heredoc */\n",
       "default .si { color: #A45A77; font-weight: bold } /* Literal.String.Interpol */\n",
       "default .sx { color: #008000 } /* Literal.String.Other */\n",
       "default .sr { color: #A45A77 } /* Literal.String.Regex */\n",
       "default .s1 { color: #BA2121 } /* Literal.String.Single */\n",
       "default .ss { color: #19177C } /* Literal.String.Symbol */\n",
       "default .bp { color: #008000 } /* Name.Builtin.Pseudo */\n",
       "default .fm { color: #0000FF } /* Name.Function.Magic */\n",
       "default .vc { color: #19177C } /* Name.Variable.Class */\n",
       "default .vg { color: #19177C } /* Name.Variable.Global */\n",
       "default .vi { color: #19177C } /* Name.Variable.Instance */\n",
       "default .vm { color: #19177C } /* Name.Variable.Magic */\n",
       "default .il { color: #666666 } /* Literal.Number.Integer.Long */</style><div class=\"highlight\"><pre><span></span><span class=\"nf\">all</span><span class=\"o\">:</span> <span class=\"n\">helloworld</span>\n",
       "\n",
       "<span class=\"nf\">helloworld</span><span class=\"o\">:</span>\n",
       "\tgcc helloworld.c -o helloworld\n",
       "\n",
       "<span class=\"nf\">.PHONY</span><span class=\"o\">:</span> <span class=\"n\">clean</span>\n",
       "<span class=\"nf\">clean</span><span class=\"o\">:</span>\n",
       "\trm -f helloworld\n",
       "</pre></div>\n"
      ],
      "text/plain": [
       "<IPython.core.display.HTML object>"
      ]
     },
     "execution_count": 16,
     "metadata": {},
     "output_type": "execute_result"
    }
   ],
   "source": [
    "IPython.display.HTML(get(\"Makefile.x86\"))"
   ]
  },
  {
   "cell_type": "code",
   "execution_count": 20,
   "id": "c724199f-34d4-443a-b5f8-6dea54213ba2",
   "metadata": {},
   "outputs": [
    {
     "name": "stdout",
     "output_type": "stream",
     "text": [
      "gcc helloworld.c -o helloworld\n"
     ]
    }
   ],
   "source": [
    "!make -f Makefile.x86 all"
   ]
  },
  {
   "cell_type": "markdown",
   "id": "a2163d61-9175-41a4-8ffb-db2d37d06d68",
   "metadata": {},
   "source": [
    "Now you can run the `helloworld` binary:"
   ]
  },
  {
   "cell_type": "code",
   "execution_count": 21,
   "id": "8910d2bb-0121-47b2-a950-ababd6ca32b4",
   "metadata": {},
   "outputs": [
    {
     "name": "stdout",
     "output_type": "stream",
     "text": [
      "hello world!\n"
     ]
    }
   ],
   "source": [
    "!./helloworld"
   ]
  },
  {
   "cell_type": "markdown",
   "id": "909b61f3-6428-4851-aba4-3cb2c59bb042",
   "metadata": {},
   "source": [
    "This binary is not deployable on Diana though! Given the earlier comments, do you know what's wrong?"
   ]
  },
  {
   "cell_type": "markdown",
   "id": "e9042f97-fe29-4754-8c01-d453a4120977",
   "metadata": {
    "tags": []
   },
   "source": [
    "### What is wrong with this example?\n",
    "\n",
    "A few things are wrong with this binary:\n",
    "1) It's **not written for a `RISC-V`** machine,`readelf -h helloworld` reveals that it's in fact a **`X86-64`** binary (see the `Machine` entry):"
   ]
  },
  {
   "cell_type": "code",
   "execution_count": 22,
   "id": "2c29b0f0-e2ea-452a-bb27-375c6dd863ac",
   "metadata": {
    "jp-MarkdownHeadingCollapsed": true,
    "tags": []
   },
   "outputs": [
    {
     "name": "stdout",
     "output_type": "stream",
     "text": [
      "ELF Header:\n",
      "  Magic:   7f 45 4c 46 02 01 01 00 00 00 00 00 00 00 00 00 \n",
      "  Class:                             ELF64\n",
      "  Data:                              2's complement, little endian\n",
      "  Version:                           1 (current)\n",
      "  OS/ABI:                            UNIX - System V\n",
      "  ABI Version:                       0\n",
      "  Type:                              DYN (Shared object file)\n",
      "  Machine:                           Advanced Micro Devices X86-64\n",
      "  Version:                           0x1\n",
      "  Entry point address:               0x1060\n",
      "  Start of program headers:          64 (bytes into file)\n",
      "  Start of section headers:          14720 (bytes into file)\n",
      "  Flags:                             0x0\n",
      "  Size of this header:               64 (bytes)\n",
      "  Size of program headers:           56 (bytes)\n",
      "  Number of program headers:         13\n",
      "  Size of section headers:           64 (bytes)\n",
      "  Number of section headers:         31\n",
      "  Section header string table index: 30\n"
     ]
    }
   ],
   "source": [
    "!readelf -h helloworld"
   ]
  },
  {
   "cell_type": "markdown",
   "id": "1ce4d480-e338-45c7-a666-b9ed20dafd30",
   "metadata": {
    "jp-MarkdownHeadingCollapsed": true,
    "tags": []
   },
   "source": [
    "2) Even though Diana **doesn't support an OS**, GCC has wrapped it inside **Linux** startup (`_start`) functions, which can in this case be seen from the entry point address (see previous cell) by *disassembling* the binary with `objdump`:"
   ]
  },
  {
   "cell_type": "code",
   "execution_count": 24,
   "id": "6843b360-6ee4-4ebe-a1c1-e26cd3d5fdde",
   "metadata": {
    "jp-MarkdownHeadingCollapsed": true,
    "tags": []
   },
   "outputs": [
    {
     "name": "stdout",
     "output_type": "stream",
     "text": [
      "\n",
      "helloworld:     file format elf64-x86-64\n",
      "\n",
      "\n",
      "Disassembly of section .text:\n",
      "\n",
      "0000000000001060 <_start>:\n",
      "    1060:\tf3 0f 1e fa          \tendbr64 \n",
      "    1064:\t31 ed                \txor    %ebp,%ebp\n",
      "    1066:\t49 89 d1             \tmov    %rdx,%r9\n",
      "    1069:\t5e                   \tpop    %rsi\n",
      "    106a:\t48 89 e2             \tmov    %rsp,%rdx\n",
      "    106d:\t48 83 e4 f0          \tand    $0xfffffffffffffff0,%rsp\n",
      "    1071:\t50                   \tpush   %rax\n",
      "    1072:\t54                   \tpush   %rsp\n",
      "    1073:\t4c 8d 05 66 01 00 00 \tlea    0x166(%rip),%r8        # 11e0 <__libc_csu_fini>\n",
      "    107a:\t48 8d 0d ef 00 00 00 \tlea    0xef(%rip),%rcx        # 1170 <__libc_csu_init>\n",
      "    1081:\t48 8d 3d c1 00 00 00 \tlea    0xc1(%rip),%rdi        # 1149 <main>\n",
      "    1088:\tff 15 52 2f 00 00    \tcallq  *0x2f52(%rip)        # 3fe0 <__libc_start_main@GLIBC_2.2.5>\n",
      "    108e:\tf4                   \thlt    \n",
      "    108f:\t90                   \tnop\n"
     ]
    }
   ],
   "source": [
    "!objdump -S --start-address=0x1060 --stop-address=0x1090 helloworld"
   ]
  },
  {
   "cell_type": "markdown",
   "id": "c558d0a5-cc64-4c32-8ebf-d2aadb4cc16f",
   "metadata": {
    "jp-MarkdownHeadingCollapsed": true,
    "tags": []
   },
   "source": [
    "3. We can just read the output from the comfort of the terminal. As stated earlier, this is not possible with Diana. \n",
    "   \n",
    "   In fact, with the current lab setup, it is not even possible to read from `printf();` statements at all.\n",
    "  "
   ]
  },
  {
   "cell_type": "code",
   "execution_count": null,
   "id": "c334c686-eb92-45d4-862a-65d52e3ee005",
   "metadata": {},
   "outputs": [],
   "source": []
  }
 ],
 "metadata": {
  "kernelspec": {
   "display_name": "Python 3 (ipykernel)",
   "language": "python",
   "name": "python3"
  },
  "language_info": {
   "codemirror_mode": {
    "name": "ipython",
    "version": 3
   },
   "file_extension": ".py",
   "mimetype": "text/x-python",
   "name": "python",
   "nbconvert_exporter": "python",
   "pygments_lexer": "ipython3",
   "version": "3.8.10"
  }
 },
 "nbformat": 4,
 "nbformat_minor": 5
}
