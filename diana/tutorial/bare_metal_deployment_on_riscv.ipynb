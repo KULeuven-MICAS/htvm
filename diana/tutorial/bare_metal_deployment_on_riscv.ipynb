{
 "cells": [
  {
   "cell_type": "code",
   "execution_count": null,
   "id": "7325415a-943a-4821-bd63-17cd389890e9",
   "metadata": {},
   "outputs": [],
   "source": [
    "from pygments import highlight\n",
    "from pygments.lexers import CLexer\n",
    "from pygments.lexers.python import PythonLexer\n",
    "from pygments.lexers.shell import BashLexer\n",
    "from pygments.lexers.make import MakefileLexer\n",
    "from pygments.formatters import HtmlFormatter\n",
    "from pygments.lexers.special import TextLexer\n",
    "import IPython\n",
    "\n",
    "def get(path):\n",
    "    if path.endswith(\".c\"):\n",
    "        lexer = CLexer()\n",
    "    elif path.endswith(\".py\"):\n",
    "        lexer = PyLexer()\n",
    "    elif path.endswith(\".sh\"):\n",
    "        lexer = BashLexer()\n",
    "    elif \"Makefile\" in path:\n",
    "        lexer = MakefileLexer()\n",
    "    else:\n",
    "        lexer = TextLexer()\n",
    "    with open(path) as f:\n",
    "        code = f.read()\n",
    "        return '<style type=\"text/css\">{}</style>{}'.format(\n",
    "            HtmlFormatter().get_style_defs('default'),\n",
    "            highlight(code, lexer, HtmlFormatter()))"
   ]
  },
  {
   "cell_type": "code",
   "execution_count": null,
   "id": "c8531ae6-d213-4470-9866-6f78c49f63cf",
   "metadata": {},
   "outputs": [],
   "source": [
    "import os\n",
    "os.environ[\"RISCV\"] = \"/pulp-riscv-gnu-toolchain\""
   ]
  },
  {
   "cell_type": "markdown",
   "id": "d5b80950-d6a6-4fe1-9259-dfcb1b8595d4",
   "metadata": {
    "tags": []
   },
   "source": [
    "# Bare Metal Deployment on RISC-V Host core\n",
    "\n",
    "The Diana system-on-chip (SoC) is based on [pulpissimo](https://github.com/pulp-platform/pulpissimo) and comes with three main parts:\n",
    "1. An open-source RISC-V core. In this case, a [**RI5CY**](https://github.com/openhwgroup/cv32e40p) core with the `RV32IMFCXpulp` ISA.\n",
    "2. A Digital accelerator named **SOMA** with a 16-by-16 PE array supporting e.g. Conv2D operations at 8 bit precision\n",
    "3. An analog/mixed-signal Compute-in-memory (CIM) core named **ANIA** with a 1152-by-512 PE array supporting e.g. Conv2D operations on 7-bit inputs and ternary weight values (\\[-1,0,1\\]).\n",
    "\n",
    "In this tutorial you will learn how to:\n",
    "* Write a simple \"hello world\" program on Diana's RISC-V core\n",
    "* Step through a program with `gdb` on the RISC-V core.\n",
    "* Cross-compile your C code for deployment on the RISC-V core with `gcc` from the pulp RISC-V GCC toolchain.\n",
    "* Perform memory managemement for the SoC\n",
    "* Troubleshoot standard errors and common problems\n",
    "\n",
    "This tutorial assumes some familiarity with various aspects of C programming:\n",
    "* C programming\n",
    "* Basic knowledge of GCC compilation options\n",
    "* Building C code with GNU `make` and `Makefile`s\n",
    "* Static and dynamic memory management in C (e.g. `malloc` and `free`)\n",
    "* Familiarity with a debugger like `gdb`, `lldb`, `pdb` or debuggers found in common IDE's.\n",
    "\n",
    "**Note that this notebook runs in an `IPython` interactive shell, but that commands with and exclamation mark (!) in front are actually passed onto the linux shell (`bash` in this case)**"
   ]
  },
  {
   "cell_type": "markdown",
   "id": "2a91ad1a-b054-42d5-9b78-e45277f6a74a",
   "metadata": {
    "tags": []
   },
   "source": [
    "## Writing a simple \"hello world\" program\n",
    "\n",
    "Writing programs on a platform like Diana is quite different from writing a program on your average desktop platform:\n",
    "* Diana's code is running *bare-metal*, meaning there is *no OS* on the Diana platform. Your program is directly running on the RISC-V core with no operating system in between.\n",
    "* You can not attach a screen to Diana, nor can you SSH into Diana. You can only interface with Diana over *UART* or *JTAG* (with the help of `gdb`). \n",
    "* Diana has very few memory (*only 512 kB!*) to work with and has no file system.\n",
    "* Diana has *no hardware caches*, but only *scratchpad memories*, meaning that all data caching has to be controlled by the programmer/compiler.\n",
    "* Diana's host core works with the quite recent and fully open-source *RISC-V ISA* as opposed to the more traditional x86 or ARM ISA's.\n",
    "\n",
    "### Writing a simple hello world on X86:\n",
    "\n",
    "Let's write a basic C program to illustrate how to work with this platform.\n",
    "In this case we'll use a lot of programs which are available in the GNU `binutils` software collection."
   ]
  },
  {
   "cell_type": "code",
   "execution_count": null,
   "id": "7c68b825-1692-4811-acb6-738535c8450a",
   "metadata": {
    "tags": []
   },
   "outputs": [],
   "source": [
    "IPython.display.HTML(get(\"helloworld.c\"))"
   ]
  },
  {
   "cell_type": "code",
   "execution_count": null,
   "id": "36aaab9c-ffdf-4c37-81be-2dee1e06e84c",
   "metadata": {
    "tags": []
   },
   "outputs": [],
   "source": [
    "IPython.display.HTML(get(\"Makefile_ex1.x86\"))"
   ]
  },
  {
   "cell_type": "code",
   "execution_count": null,
   "id": "c724199f-34d4-443a-b5f8-6dea54213ba2",
   "metadata": {
    "tags": []
   },
   "outputs": [],
   "source": [
    "!make -f Makefile_ex1.x86 clean all"
   ]
  },
  {
   "cell_type": "markdown",
   "id": "a2163d61-9175-41a4-8ffb-db2d37d06d68",
   "metadata": {
    "tags": []
   },
   "source": [
    "Now you can run the `helloworld` binary:"
   ]
  },
  {
   "cell_type": "code",
   "execution_count": null,
   "id": "8910d2bb-0121-47b2-a950-ababd6ca32b4",
   "metadata": {},
   "outputs": [],
   "source": [
    "!./helloworld"
   ]
  },
  {
   "cell_type": "markdown",
   "id": "b08bdf5c-327d-482a-bb74-99de711e7f58",
   "metadata": {
    "jp-MarkdownHeadingCollapsed": true,
    "tags": []
   },
   "source": [
    "### What is wrong with this example?\n",
    "\n",
    "This binary is not deployable on Diana though! Given the earlier comments, do you know what's wrong?"
   ]
  },
  {
   "cell_type": "markdown",
   "id": "909b61f3-6428-4851-aba4-3cb2c59bb042",
   "metadata": {
    "jp-MarkdownHeadingCollapsed": true,
    "tags": []
   },
   "source": [
    "#### Wrong binary format"
   ]
  },
  {
   "cell_type": "markdown",
   "id": "db399fee-fb01-48b7-8a95-d84debcd0ef0",
   "metadata": {
    "tags": []
   },
   "source": [
    "Let's inspect what type of binary we just created:"
   ]
  },
  {
   "cell_type": "code",
   "execution_count": null,
   "id": "f5c84a57-a8ad-44de-8c06-5af551ee01df",
   "metadata": {
    "tags": []
   },
   "outputs": [],
   "source": [
    "!file helloworld"
   ]
  },
  {
   "cell_type": "markdown",
   "id": "ec6ba2bd-b127-4cf1-aec8-bc6f9ae09250",
   "metadata": {
    "tags": []
   },
   "source": [
    "We've just created a binary file in ELF format.\n",
    "We can look into the header of the ELF file with `readelf -h helloworld`"
   ]
  },
  {
   "cell_type": "code",
   "execution_count": null,
   "id": "2c29b0f0-e2ea-452a-bb27-375c6dd863ac",
   "metadata": {
    "jp-MarkdownHeadingCollapsed": true,
    "tags": []
   },
   "outputs": [],
   "source": [
    "!readelf -h helloworld"
   ]
  },
  {
   "cell_type": "markdown",
   "id": "dafe0ba6-3207-4618-81a9-d058fc1b6731",
   "metadata": {
    "tags": []
   },
   "source": [
    "In this case you can see that it's **not written for a `RISC-V`** machine, in fact this is a **`X86-64`** binary (see the `Machine` entry):"
   ]
  },
  {
   "cell_type": "markdown",
   "id": "b5346fce-147b-4871-99b5-8cbcccc4330e",
   "metadata": {
    "jp-MarkdownHeadingCollapsed": true,
    "tags": []
   },
   "source": [
    "#### No OS support"
   ]
  },
  {
   "cell_type": "markdown",
   "id": "1ce4d480-e338-45c7-a666-b9ed20dafd30",
   "metadata": {
    "jp-MarkdownHeadingCollapsed": true,
    "tags": []
   },
   "source": [
    "Even though Diana **doesn't support an OS**, GCC has wrapped it inside **Linux** startup (`_start`) functions, which can in this case be seen from the entry point address (see previous cell) by *disassembling* the binary with `objdump`. Furthermore, as executing `file` already saw, this file is dynamically linked. Since there's no OS support for dynamic linking, we'll have to make a statically linked binary:"
   ]
  },
  {
   "cell_type": "code",
   "execution_count": null,
   "id": "6843b360-6ee4-4ebe-a1c1-e26cd3d5fdde",
   "metadata": {
    "jp-MarkdownHeadingCollapsed": true,
    "tags": []
   },
   "outputs": [],
   "source": [
    "!objdump -S --start-address=0x1060 --stop-address=0x1090 helloworld"
   ]
  },
  {
   "cell_type": "markdown",
   "id": "2a31c4fb-d499-4e6b-8e9e-48ebd8a215cb",
   "metadata": {
    "jp-MarkdownHeadingCollapsed": true,
    "tags": []
   },
   "source": [
    "#### No `printf` support"
   ]
  },
  {
   "cell_type": "markdown",
   "id": "775c7820-c26a-44d4-9096-208505d74d38",
   "metadata": {
    "jp-MarkdownHeadingCollapsed": true,
    "tags": []
   },
   "source": [
    "We can just read the output from the comfort of the terminal. As stated earlier, this is not possible with Diana. \n",
    "   \n",
    "   In fact, with the current lab setup, it is **not even possible to read from `printf();`** statements at all. To bypass this restriction, we will demonstrate how to use gdb to print globally defined variables.\n",
    "\n",
    "Take for example this adapted C file and corresponding makefile:"
   ]
  },
  {
   "cell_type": "code",
   "execution_count": null,
   "id": "2055e816-650a-4111-bc04-8bbad564ce5b",
   "metadata": {},
   "outputs": [],
   "source": [
    "IPython.display.HTML(get(\"helloworld_gdb.c\"))"
   ]
  },
  {
   "cell_type": "code",
   "execution_count": null,
   "id": "324f59c4-540a-4251-8588-ad740f2b567c",
   "metadata": {},
   "outputs": [],
   "source": [
    "IPython.display.HTML(get(\"Makefile_ex2.x86\"))"
   ]
  },
  {
   "cell_type": "code",
   "execution_count": null,
   "id": "88a9d71b-4915-45cc-b953-d0d61928211f",
   "metadata": {},
   "outputs": [],
   "source": [
    "!make -f Makefile_ex2.x86 clean all"
   ]
  },
  {
   "cell_type": "markdown",
   "id": "2a251b48-8060-4292-9752-e8810739c9c5",
   "metadata": {},
   "source": [
    "Now we can start up the program and log the program with gdb.\n",
    "To do this we start the program with `gdb -x gdb_script.sh`, where `gdb_script.sh` is a script that performs all the commands in gdb. For example:"
   ]
  },
  {
   "cell_type": "code",
   "execution_count": null,
   "id": "387c7f69-d7a9-4369-b1c6-1cf02ae7b54c",
   "metadata": {},
   "outputs": [],
   "source": [
    "IPython.display.HTML(get(\"gdb_script.sh\"))"
   ]
  },
  {
   "cell_type": "markdown",
   "id": "fe4fca80-a257-46cd-953e-2770508b20f0",
   "metadata": {},
   "source": [
    "This script will do the following:\n",
    "* `file` : Load in the `helloworld_gdb` binary\n",
    "* `break`: Insert a breakpoint at the `gdb_anchor` function\n",
    "* `run`  : Start execution of the program\n",
    "* `printf` : Print the string `global_string`\n",
    "* `continue`: Continue execution of the program after it hit the breakpoint\n",
    "* `quit` : Exit `gdb`'s interactive shell."
   ]
  },
  {
   "cell_type": "code",
   "execution_count": null,
   "id": "d31f8760-f8d8-41d2-9e2c-6cea12806b34",
   "metadata": {},
   "outputs": [],
   "source": [
    "!gdb -x gdb_script.sh"
   ]
  },
  {
   "cell_type": "markdown",
   "id": "fc35781b-d43c-48b4-8d46-f2a7c1a121b7",
   "metadata": {
    "jp-MarkdownHeadingCollapsed": true,
    "tags": []
   },
   "source": [
    "#### Binary size is crucial"
   ]
  },
  {
   "cell_type": "markdown",
   "id": "3a103053-d4df-408e-b20f-bbec12b5d377",
   "metadata": {
    "jp-MarkdownHeadingCollapsed": true,
    "tags": []
   },
   "source": [
    "As stated before, **Diana has very few memory**. Hence, keeping track of your memory usage is very important.\n",
    "\n",
    "   We can inspect how large the sections of our binary are by using `size` or `readelf`."
   ]
  },
  {
   "cell_type": "code",
   "execution_count": null,
   "id": "c334c686-eb92-45d4-862a-65d52e3ee005",
   "metadata": {},
   "outputs": [],
   "source": [
    "!size helloworld"
   ]
  },
  {
   "cell_type": "markdown",
   "id": "9035e61b-1663-4b03-b381-2336f44e4ebf",
   "metadata": {},
   "source": [
    "Here we can see some of the basic sections that make up an [elf binary](https://wiki.osdev.org/ELF) :\n",
    "The `.text` section is 1566 bytes large, and the total size is 2174 bytes.   \n",
    "   \n",
    "   \n",
    "| Sections making up an ELF binary ([source](https://wiki.osdev.org/ELF))  |\n",
    "|-------------------------------------------------------------------------------------------------|\n",
    "\n",
    "| section | Description                                             |\n",
    "|---------|-------------------------------------------------------------------------------------------------|\n",
    "| `.text` | \twhere code live, as said above. `objdump -drS .process.o` will show you that.               |\n",
    "|`.data`  | \twhere global tables, variables, etc. live. `objdump -s -j .data .process.o` will hexdump it.|\n",
    "|`.bss`| \tdon't look for bits of `.bss` in your file: there's none. That's where your uninitialized arrays and variable are, and the loader 'knows' they should be filled with zeroes ... there's no point storing more zeroes on your disk than there already are, is it? |\n",
    "|`.rodata`| \tthat's where your strings go, usually the things you forgot when linking and that cause your kernel not to work. `objdump -s -j .rodata .process.o`makefile will hexdump it. Note that depending on the compiler, you may have more sections like this.|\n",
    "|`.comment` & `.note`| \tjust comments put there by the compiler/linker toolchain |\n",
    "|`.stab` & `.stabstr`| \tdebugging symbols & similar information. |\n",
    "\n",
    "A more detailed description can be found by looking at the ELF Section headers:"
   ]
  },
  {
   "cell_type": "code",
   "execution_count": null,
   "id": "f51656fc-e15c-4254-888b-75c4e4701b32",
   "metadata": {},
   "outputs": [],
   "source": [
    "!readelf helloworld -Wt"
   ]
  },
  {
   "cell_type": "markdown",
   "id": "0bf86e4e-1779-4d50-a53f-7eb90a7e7ad8",
   "metadata": {
    "tags": []
   },
   "source": [
    "### Writing a simple hello world program on Diana\n",
    "\n",
    "Taking into account all the previous comments about why you can not just call `gcc` and run that binary on the Ri5cy core on Diana, what does it take to run a binary on Diana?\n",
    "\n",
    "1. We need a custom version of `gcc` that cross compiles to RISC-V ELF-files.\n",
    "2. We need a version of (part of the) C standard library that allows to run programs on Diana.\n",
    "\n",
    "These components are provided in different software projects:\n",
    "1. `pulp-riscv-gnu-toolchain` provides versions of `gcc` and `binutils` for use with PULPissimo-derived platforms (like Diana)\n",
    "2. `pulp-sdk-diana` provides an adapted version of the pulp runtime for use with Diana.\n",
    "\n",
    "The easiest way to use these tools is to use the wrappers provided by the PULPissimo developers by setting up a makefile like so:"
   ]
  },
  {
   "cell_type": "code",
   "execution_count": null,
   "id": "6377c06b-f0e0-4af3-8085-29aaf3d998ac",
   "metadata": {},
   "outputs": [],
   "source": [
    "IPython.display.HTML(get(\"Makefile_ex3.pulprt\"))"
   ]
  },
  {
   "cell_type": "markdown",
   "id": "3834e6a4-f701-48b0-abdd-f0254c43d00c",
   "metadata": {},
   "source": [
    "------------\n",
    "*Let's go over what it takes to create such a makefile:*\n",
    "\n",
    "1. The line at the bottom of the makefile calls the wrapper:\n",
    "    ```makefile\n",
    "    include $(PULP_SDK_HOME)/install/rules/pulp.mk\n",
    "    ```\n",
    "2. `BUILD_DIR` sets the name of the build directory\n",
    "3. `PULP_APP` sets the name of the generated binary\n",
    "4. `PULP_APP_SRCS` points to all C source files used in this build. The main file of the build. Note that you should always specify the absolute path. This can easily be achieved by using the `$(abspath ...)` directive in GNU Make.\n",
    "5. `PULP_INC_PATHS` should always include a macro to be set to `SDK`\n",
    "6. `PULP_CFLAGS` controls the compiler flags for `gcc`:\n",
    "    * `-Wall` sets all warnings\n",
    "    * `-pedantic` toggles pedantic compilation\n",
    "    * `-O0` controls `gcc`s optimization level. You should always compile with `-O0` for debugging purposes. For optimal performance `-O3` should be used, and for binary size reduction the `-Os` option can be used.\n",
    "    * `-g` turns on debug symbol generation.\n",
    "    * `-I` can be used to include extra headers in compilation\n",
    "    \n",
    "------------\n",
    "\n",
    "Now, inside a jupyter terminal run (there will be a lot of terminal output):\n",
    "```bash\n",
    "make -f Makefile_ex3.pulprt clean all \n",
    "```\n",
    "Unless any errors show up, the binary will then be generated at `build/pulpissimo/helloworld_gdb_app/helloworld_gdb_app`.\n",
    "Also note that the `clean` recipe in the Makefile was automatically generated by inclusion of the PULP-SDK.\n",
    "\n",
    "We can now inspect the created file:"
   ]
  },
  {
   "cell_type": "code",
   "execution_count": null,
   "id": "d31e14d7-f0fa-421b-8163-3b9de16d4674",
   "metadata": {
    "tags": []
   },
   "outputs": [],
   "source": [
    "!file build/pulpissimo/helloworld_gdb_app/helloworld_gdb_app"
   ]
  },
  {
   "cell_type": "markdown",
   "id": "df07798e-4c94-4d2a-8da6-08a59663816e",
   "metadata": {
    "tags": []
   },
   "source": [
    "Hurray! A statically linked RISC-V ELF file!\n",
    "Let's look into the size?"
   ]
  },
  {
   "cell_type": "code",
   "execution_count": null,
   "id": "6799f4cb-f997-413b-8264-88477092bc54",
   "metadata": {},
   "outputs": [],
   "source": [
    "!readelf -h build/pulpissimo/helloworld_gdb_app/helloworld_gdb_app"
   ]
  },
  {
   "cell_type": "code",
   "execution_count": null,
   "id": "3f29c6a1-8fad-4d31-b551-c2628f643363",
   "metadata": {},
   "outputs": [],
   "source": [
    "!size build/pulpissimo/helloworld_gdb_app/helloworld_gdb_app"
   ]
  },
  {
   "cell_type": "markdown",
   "id": "6e3d675e-8fda-4e5a-8ad0-e331e0c3843b",
   "metadata": {},
   "source": [
    "Cool! And now let's dump the disassembly at the entry point address:"
   ]
  },
  {
   "cell_type": "code",
   "execution_count": null,
   "id": "d00adcd0-f5bc-46e6-8f0a-864373ec528b",
   "metadata": {
    "jp-MarkdownHeadingCollapsed": true,
    "tags": []
   },
   "outputs": [],
   "source": [
    "!objdump -S --start-address=0x1c008080 --stop-address=0x1c008086 build/pulpissimo/helloworld_gdb_app/helloworld_gdb_app"
   ]
  },
  {
   "cell_type": "markdown",
   "id": "de895076-b7a0-453d-80c1-69dc1ee641ea",
   "metadata": {},
   "source": [
    "That doesn't work, let's instead directly use the `binutils` version that comes with PULPissimo"
   ]
  },
  {
   "cell_type": "code",
   "execution_count": null,
   "id": "50506d4f-8b9a-49e4-b864-0f9e1c688553",
   "metadata": {
    "jp-MarkdownHeadingCollapsed": true,
    "tags": []
   },
   "outputs": [],
   "source": [
    "!$RISCV/bin/riscv32-unknown-elf-objdump -S --start-address=0x1c008080 --stop-address=0x1c008086 build/pulpissimo/helloworld_gdb_app/helloworld_gdb_app"
   ]
  },
  {
   "cell_type": "markdown",
   "id": "e386725e-9cdb-4845-b42b-9260908c862f",
   "metadata": {},
   "source": [
    "### Running the \"hello world\" example on Diana\n",
    "\n",
    "WIP"
   ]
  },
  {
   "cell_type": "markdown",
   "id": "e03fd6a9-f370-496e-8888-e614c9aa1676",
   "metadata": {},
   "source": [
    "## Memory management on Diana\n",
    "\n",
    "As a platform built on PULPissimo, Diana has a special memory map (this can be found at page 9 of [the PULPissmio datasheet](https://github.com/pulp-platform/pulpissimo/blob/master/doc/datasheet/datasheet.pdf)).\n",
    "\n",
    "The memory map largeley consists of 3 parts:\n",
    "|start address | memory |\n",
    "|-|-|\n",
    "|`0x1A00 0000`| Boot ROM (8kiB)|\n",
    "|`0x1A10 0000`| Memory-mapped Peripherals |\n",
    "|`0x1C00 0000`| RAM a.k.a L2 Memory (512 kiB)|\n",
    "\n",
    "Note that the first part (the first 64 kiB) of L2 memory is only available to the RI5CY core (or fc = _fabric controller_ in PULPissimo terminology)). This is called the **private part of L2**. The other 448kiB are called the **shared part of L2**.\n",
    "\n",
    "The accelerators on Diana are configured as **HWPEs** (= Hardware Processing Engines) in PULPissimo terminology.\n",
    "The HWPE's can only access the shared part of L2 for performance reasons.\n",
    "\n",
    "\n",
    "|***VERY IMPORTANT***|\n",
    "|--------------------|\n",
    "|**This means that you can not send data to Diana's accelerators if the data is allocated on the private part of L2. Please be very mindful about this, since you won't be warned about this (it compiles just fine). And it can lead to bugs which can be very difficult to debug**|\n",
    "\n",
    "\n",
    "This is all fine, but how do you get these values to be placed in the shared part of your memory in the first place?\n",
    "\n",
    "### Statically allocated data on shared L2\n",
    "\n",
    "Statical data allocation is the job of the linker. Say you'd like to make sure a variable inside a function is mapped onto L2, like so:\n",
    "\n",
    "```c\n",
    "int bias = [32, 15, 88, 99]; \n",
    "\n",
    "int mult_add_bias(int a, int b, int bias_index){\n",
    "    // Avoid a segfault here\n",
    "    if (bias_index > 3 || bias_index < 0){\n",
    "        abort();\n",
    "    }\n",
    "    int result = a * b + bias[bias_index]; \n",
    "    return result;\n",
    "}\n",
    "```\n",
    "You'd like to make sure that bias is in the shared part of your memory. \n",
    "You can instruct this to the linker with the `L2_DATA` macro provided by the PULP-SDK like so:\n",
    "\n",
    "```c\n",
    "#include <pulp.h>\n",
    "\n",
    "L2_DATA int bias = [32, 15, 88, 99]; \n",
    "\n",
    "int mult_add_bias(int a, int b, int bias_index){\n",
    "    // Avoid a segfault here\n",
    "    if (bias_index > 3 || bias_index < 0){\n",
    "        abort();\n",
    "    }\n",
    "    int result = a * b + bias[bias_index]; \n",
    "    return result;\n",
    "}\n",
    "```\n",
    "_Note that at this point, your code will not be portable to x86 anymore, you can not compile it anymore with a regular makefile._\n",
    "\n",
    "### Dynamically allocated data on shared L2\n",
    "\n",
    "\n",
    "\n"
   ]
  },
  {
   "cell_type": "code",
   "execution_count": null,
   "id": "5a443a2e-3b44-498f-ba48-30d51518eeef",
   "metadata": {},
   "outputs": [],
   "source": []
  }
 ],
 "metadata": {
  "kernelspec": {
   "display_name": "Python 3 (ipykernel)",
   "language": "python",
   "name": "python3"
  },
  "language_info": {
   "codemirror_mode": {
    "name": "ipython",
    "version": 3
   },
   "file_extension": ".py",
   "mimetype": "text/x-python",
   "name": "python",
   "nbconvert_exporter": "python",
   "pygments_lexer": "ipython3",
   "version": "3.8.10"
  },
  "toc-autonumbering": true,
  "toc-showcode": false,
  "toc-showmarkdowntxt": false
 },
 "nbformat": 4,
 "nbformat_minor": 5
}
